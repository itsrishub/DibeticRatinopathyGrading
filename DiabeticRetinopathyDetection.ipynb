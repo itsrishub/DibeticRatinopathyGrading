{
 "cells": [
  {
   "cell_type": "code",
   "execution_count": 1,
   "metadata": {},
   "outputs": [],
   "source": [
    "# Convolution Neural Network\n",
    "# Part 1 - Building CNN Architecture and Import Data\n",
    "\n",
    "# Importing the Keras libraries and packages\n",
    "# 'Sequential' library used to Initialize NN as sequence of layers (Alternative to Graph initialization)\n",
    "from keras.models import Sequential\n",
    "# 'Conv2D' for 1st step of adding convolution layers to images ('Conv3D' for videos with time as 3rd dimension)\n",
    "from keras.layers import Conv2D\n",
    "# 'MaxPooling2D' step 2 for pooling of max values from Convolution Layers\n",
    "from keras.layers import MaxPooling2D\n",
    "# 'Flatten' Pooled Layers for step 3\n",
    "from keras.layers import Flatten\n",
    "# 'Dense' for fully connected layers that feed into classic ANN\n",
    "from keras.layers import Dense\n",
    "\n",
    "# Initializing the CNN\n",
    "# Calling this object a 'classifier' because that's its job\n",
    "classifier = Sequential()\n",
    "\n",
    "# Step 1 - Convolution\n",
    "# Apply a method 'add' on the object 'classifier'\n",
    "# Filter = Feature Detector = Feature Kernel\n",
    "# 'Conv2D' (Number of Filters, (Filter Row, Filter Column), input shape of inputs = (3 color channels, 64x64 -> 256x256 dimension of 2D array in each channel))\n",
    "# Start with 32 filters, work your way up to 64 -> 128 -> 256\n",
    "# 'input_shape' needs all picture inputs to be the same shape and format (2D array for B&W, 3D for Color images with each 2D array channel being Blue/Green/Red)\n",
    "# 'input_shape' parameter shape matters (3,64,64) vs (64,64,3)\n",
    "# 'Relu' Rectifier Activation Function used to get rid of -ve pixel values and increase non-linearity\n",
    "classifier.add(Conv2D(32, (3, 3), input_shape = (64, 64, 3), activation = 'relu'))\n",
    "\n",
    "# Step 2 - Pooling\n",
    "# Reduces the size of the Feature Map by half (eg. 5x5 turns into 3x3 or 8x8 turns into 4x4)\n",
    "# Preserves Spatial Structure and performance of model while reducing computation time\n",
    "# 'pool_size' at least needs to be 2x2 to preserve Spatial Structure information (context around individual pixels)\n",
    "classifier.add(MaxPooling2D(pool_size = (2, 2)))\n",
    "\n",
    "# Adding a second convolution layer to improve performance\n",
    "# Only need 'input_shape' for Input Layer\n",
    "classifier.add(Conv2D(32, (3, 3), activation = 'relu'))\n",
    "classifier.add(MaxPooling2D(pool_size = (2, 2)))\n",
    "\n",
    "# Step 3 - Flattening\n",
    "# Take all the Pooled Feature Maps and put them into one huge single Vector that will input into a classic NN\n",
    "classifier.add(Flatten())\n",
    "\n",
    "# Step 4 - Full connection\n",
    "# Add some fully connected hidden layers (start with a number of Node between input and output layers)\n",
    "# [Input Nodes(huge) - Output Nodes (2: Cat or Dog)] / 2 = ~128?...\n",
    "# 'Activation' function makes sure relevant Nodes get a stronger vote or no vote\n",
    "classifier.add(Dense(units = 128, activation = 'relu'))\n",
    "# Add final Output Layer with binary options\n",
    "classifier.add(Dense(units = 1, activation = 'sigmoid'))\n",
    "\n",
    "# Compiling the CNN\n",
    "# 'adam' Stochastic Gradient Descent optimizer\n",
    "# 'loss' function. Logarithmic loss for 2 categories use 'binary_crossentropy' and 'categorical_crossentropy' for more objects\n",
    "# 'metric' is the a performance metric\n",
    "classifier.compile(optimizer = 'adam', loss = 'binary_crossentropy', metrics = ['accuracy'])\n",
    "\n"
   ]
  },
  {
   "cell_type": "code",
   "execution_count": null,
   "metadata": {},
   "outputs": [],
   "source": [
    "import splitfolders\n",
    "\n",
    "splitfolders.ratio(\"/DiabeticRetinopathy/mainData\", output=\"Data/\", ratio=(0.80, 0.20))"
   ]
  },
  {
   "cell_type": "code",
   "execution_count": 2,
   "metadata": {},
   "outputs": [
    {
     "name": "stdout",
     "output_type": "stream",
     "text": [
      "Found 2929 images belonging to 2 classes.\n",
      "Found 733 images belonging to 2 classes.\n"
     ]
    }
   ],
   "source": [
    "# Part 2 - Fitting the CNN to the images\n",
    "\n",
    "from keras.preprocessing.image import ImageDataGenerator\n",
    "\n",
    "# Create random transformation from Data to increase Dataset and prevent overfitting\n",
    "train_datagen = ImageDataGenerator(rescale = 1./255,\n",
    "                                   shear_range = 0.2,\n",
    "                                   zoom_range = 0.2,\n",
    "                                   horizontal_flip = True)\n",
    "\n",
    "test_datagen = ImageDataGenerator(rescale = 1./255)\n",
    "\n",
    "# 'batch_size' is the number of images that go through the CNN every weight update cycle\n",
    "# Increase 'target_size' to improve model accuracy \n",
    "\n",
    "training_set = train_datagen.flow_from_directory('/DiabeticRetinopathy/Data/train',\n",
    "                                                 target_size = (64, 64),\n",
    "                                                 batch_size = 32,\n",
    "                                                 class_mode = 'binary')\n",
    "\n",
    "\n",
    "test_set = test_datagen.flow_from_directory('/DiabeticRetinopathy/Data/val',\n",
    "                                            target_size = (64, 64),\n",
    "                                            batch_size = 32,\n",
    "                                            class_mode = 'binary')"
   ]
  },
  {
   "cell_type": "code",
   "execution_count": 3,
   "metadata": {},
   "outputs": [
    {
     "name": "stdout",
     "output_type": "stream",
     "text": [
      "Epoch 1/3\n",
      "92/92 [==============================] - 14s 146ms/step - loss: 0.4572 - accuracy: 0.7607 - val_loss: 0.3041 - val_accuracy: 0.8909\n",
      "Epoch 2/3\n",
      "92/92 [==============================] - 13s 136ms/step - loss: 0.3013 - accuracy: 0.8856 - val_loss: 0.3293 - val_accuracy: 0.8840\n",
      "Epoch 3/3\n",
      "92/92 [==============================] - 13s 138ms/step - loss: 0.2316 - accuracy: 0.9174 - val_loss: 0.2562 - val_accuracy: 0.9181\n"
     ]
    },
    {
     "data": {
      "text/plain": [
       "<keras.src.callbacks.History at 0x1723edf30>"
      ]
     },
     "execution_count": 3,
     "metadata": {},
     "output_type": "execute_result"
    }
   ],
   "source": [
    "# Train the model\n",
    "# Increase 'epochs' to boost model performance (takes longer)\n",
    "# np.ceil((2744*0.8/32)-1)\n",
    "# steps_per_epoch = np.ceil((2745*0.8/32)-1),\n",
    "# validation_steps = 1000\n",
    "classifier.fit(training_set,\n",
    "                 epochs = 5,\n",
    "                 validation_data = test_set)"
   ]
  },
  {
   "cell_type": "code",
   "execution_count": 4,
   "metadata": {},
   "outputs": [
    {
     "name": "stdout",
     "output_type": "stream",
     "text": [
      "Model: \"sequential\"\n",
      "_________________________________________________________________\n",
      " Layer (type)                Output Shape              Param #   \n",
      "=================================================================\n",
      " conv2d (Conv2D)             (None, 62, 62, 32)        896       \n",
      "                                                                 \n",
      " max_pooling2d (MaxPooling2  (None, 31, 31, 32)        0         \n",
      " D)                                                              \n",
      "                                                                 \n",
      " conv2d_1 (Conv2D)           (None, 29, 29, 32)        9248      \n",
      "                                                                 \n",
      " max_pooling2d_1 (MaxPoolin  (None, 14, 14, 32)        0         \n",
      " g2D)                                                            \n",
      "                                                                 \n",
      " flatten (Flatten)           (None, 6272)              0         \n",
      "                                                                 \n",
      " dense (Dense)               (None, 128)               802944    \n",
      "                                                                 \n",
      " dense_1 (Dense)             (None, 1)                 129       \n",
      "                                                                 \n",
      "=================================================================\n",
      "Total params: 813217 (3.10 MB)\n",
      "Trainable params: 813217 (3.10 MB)\n",
      "Non-trainable params: 0 (0.00 Byte)\n",
      "_________________________________________________________________\n"
     ]
    },
    {
     "name": "stderr",
     "output_type": "stream",
     "text": [
      "/opt/homebrew/lib/python3.10/site-packages/keras/src/engine/training.py:3000: UserWarning: You are saving your model as an HDF5 file via `model.save()`. This file format is considered legacy. We recommend using instead the native Keras format, e.g. `model.save('my_model.keras')`.\n",
      "  saving_api.save_model(\n"
     ]
    }
   ],
   "source": [
    "# Save model to file\n",
    "# Architecture of the model, allowing to reuse trained models\n",
    "# Weights of the model\n",
    "# Training configuration (loss, optimizer)\n",
    "# State of the optimizer, allowing to resume training exactly where you left off\n",
    "classifier.save('savedModel/dbts.h5')\n",
    "\n",
    "# Examine model\n",
    "classifier.summary()\n",
    "\n",
    "# Examine Weights\n",
    "classifier.weights\n",
    "\n",
    "# Examine Optimizer\n",
    "classifier.optimizer\n",
    "\n",
    "\n",
    "\n",
    "# Load saved Model\n",
    "from keras.models import load_model\n",
    "\n",
    "model = load_model('savedModel/dbts.h5')\n"
   ]
  },
  {
   "cell_type": "code",
   "execution_count": 7,
   "metadata": {},
   "outputs": [
    {
     "name": "stdout",
     "output_type": "stream",
     "text": [
      "1/1 [==============================] - 0s 18ms/step\n",
      "1.0\n",
      "The model class indices are: {'DR': 0, 'No_DR': 1}\n",
      "\n",
      "Prediction: nd\n"
     ]
    }
   ],
   "source": [
    "# Part 3 - Making new predictions\n",
    "\n",
    "# Place a new picture of a cat or dog in 'single_prediction' folder and see if your model works\n",
    "import numpy as np\n",
    "from keras.preprocessing import image\n",
    "test_image = image.load_img('/Desktop/DiabeticRetinopathy/mainData/No_DR/2cf18033da31.png', target_size = (64, 64))\n",
    "# Add a 3rd Color dimension to match Model expectation\n",
    "test_image = image.img_to_array(test_image)\n",
    "# Add one more dimension to beginning of image array so 'Predict' function can receive it (corresponds to Batch, even if only one batch)\n",
    "test_image = np.expand_dims(test_image, axis = 0)\n",
    "result = classifier.predict(test_image)\n",
    "# We now need to pull up the mapping between 0/1 and cat/dog\n",
    "training_set.class_indices\n",
    "# Map is 2D so check the first row, first column value\n",
    "print(result[0][0])\n",
    "if result[0][0] == 1:\n",
    "    prediction = 'no_dr'\n",
    "else:\n",
    "    prediction = 'dr'\n",
    "# Print result\n",
    "\n",
    "print(\"The model class indices are:\", training_set.class_indices)\n",
    "\n",
    "print(\"\\nPrediction: \" + prediction)\n"
   ]
  }
 ],
 "metadata": {
  "kernelspec": {
   "display_name": "Python 3 (ipykernel)",
   "language": "python",
   "name": "python3"
  },
  "language_info": {
   "codemirror_mode": {
    "name": "ipython",
    "version": 3
   },
   "file_extension": ".py",
   "mimetype": "text/x-python",
   "name": "python",
   "nbconvert_exporter": "python",
   "pygments_lexer": "ipython3",
   "version": "3.10.6"
  },
  "varInspector": {
   "cols": {
    "lenName": 16,
    "lenType": 16,
    "lenVar": 40
   },
   "kernels_config": {
    "python": {
     "delete_cmd_postfix": "",
     "delete_cmd_prefix": "del ",
     "library": "var_list.py",
     "varRefreshCmd": "print(var_dic_list())"
    },
    "r": {
     "delete_cmd_postfix": ") ",
     "delete_cmd_prefix": "rm(",
     "library": "var_list.r",
     "varRefreshCmd": "cat(var_dic_list()) "
    }
   },
   "types_to_exclude": [
    "module",
    "function",
    "builtin_function_or_method",
    "instance",
    "_Feature"
   ],
   "window_display": false
  }
 },
 "nbformat": 4,
 "nbformat_minor": 2
}
